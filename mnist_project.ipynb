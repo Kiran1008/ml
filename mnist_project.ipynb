{
  "nbformat": 4,
  "nbformat_minor": 0,
  "metadata": {
    "colab": {
      "provenance": []
    },
    "kernelspec": {
      "name": "python3",
      "display_name": "Python 3"
    },
    "language_info": {
      "name": "python"
    }
  },
  "cells": [
    {
      "cell_type": "code",
      "execution_count": null,
      "metadata": {
        "id": "sl_tQSChsPL6"
      },
      "outputs": [],
      "source": [
        "import matplotlib.pyplot as plt\n",
        "import numpy as np\n",
        "np.random.seed(123)"
      ]
    },
    {
      "cell_type": "code",
      "source": [
        "from keras.models import Sequential\n",
        "from keras.layers import Dense,Dropout,Flatten,Conv2D,MaxPooling2D\n",
        "from keras.utils import to_categorical\n"
      ],
      "metadata": {
        "id": "51W6-9pysQaa"
      },
      "execution_count": null,
      "outputs": []
    },
    {
      "cell_type": "code",
      "source": [
        "from keras.datasets import mnist"
      ],
      "metadata": {
        "id": "c3AsN-O8sVou"
      },
      "execution_count": null,
      "outputs": []
    },
    {
      "cell_type": "code",
      "source": [],
      "metadata": {
        "id": "9PHgBKKMGmE4"
      },
      "execution_count": null,
      "outputs": []
    },
    {
      "cell_type": "code",
      "source": [
        "(X_train,y_train),(X_test,y_test)=mnist.load_data()"
      ],
      "metadata": {
        "colab": {
          "base_uri": "https://localhost:8080/"
        },
        "id": "G4OTcaL_sY5k",
        "outputId": "f517917e-f58c-419b-9955-f51ad5244a0f"
      },
      "execution_count": null,
      "outputs": [
        {
          "output_type": "stream",
          "name": "stdout",
          "text": [
            "Downloading data from https://storage.googleapis.com/tensorflow/tf-keras-datasets/mnist.npz\n",
            "11490434/11490434 [==============================] - 0s 0us/step\n"
          ]
        }
      ]
    },
    {
      "cell_type": "code",
      "source": [
        "X_train.shape"
      ],
      "metadata": {
        "colab": {
          "base_uri": "https://localhost:8080/"
        },
        "id": "tLodcf46dE7S",
        "outputId": "b33421cd-67b5-4a36-c422-e0b1fc174221"
      },
      "execution_count": null,
      "outputs": [
        {
          "output_type": "execute_result",
          "data": {
            "text/plain": [
              "(60000, 28, 28)"
            ]
          },
          "metadata": {},
          "execution_count": 6
        }
      ]
    },
    {
      "cell_type": "code",
      "source": [
        "X_test.shape"
      ],
      "metadata": {
        "colab": {
          "base_uri": "https://localhost:8080/"
        },
        "id": "llm0h6tSdQHM",
        "outputId": "eedd1a36-d2da-4847-e0d1-7abc8e093bbe"
      },
      "execution_count": null,
      "outputs": [
        {
          "output_type": "execute_result",
          "data": {
            "text/plain": [
              "(10000, 28, 28)"
            ]
          },
          "metadata": {},
          "execution_count": 7
        }
      ]
    },
    {
      "cell_type": "code",
      "source": [
        "X_train=X_train.reshape(X_train.shape[0],28,28,1)\n",
        "X_test=X_test.reshape(X_test.shape[0],28,28,1)"
      ],
      "metadata": {
        "id": "4sJWtLQFsvSY"
      },
      "execution_count": null,
      "outputs": []
    },
    {
      "cell_type": "code",
      "source": [
        "def pred(index):\n",
        "  p =  np.reshape(X_test[index], (-1, 28, 28, 1))\n",
        "  fig, axes = plt.subplots(1, 1)\n",
        "  axes.imshow(X_test[index])\n",
        "  axes.set_title(f\"Actual: {np.argmax(y_test[index])}  &  Prediction: {np.argmax(model.predict(p))}\")"
      ],
      "metadata": {
        "id": "vUkPUFybA_AZ"
      },
      "execution_count": null,
      "outputs": []
    },
    {
      "cell_type": "code",
      "source": [
        "X_train=X_train.astype('float32')\n",
        "X_test=X_test.astype('float32')"
      ],
      "metadata": {
        "id": "2dmEhnE_sv9x"
      },
      "execution_count": null,
      "outputs": []
    },
    {
      "cell_type": "code",
      "source": [
        "X_train=(X_train-np.mean(X_train))/X_train.std()\n",
        "X_test=(X_test-np.mean(X_test))/X_test.std()"
      ],
      "metadata": {
        "id": "DcT3RWfdttPV"
      },
      "execution_count": null,
      "outputs": []
    },
    {
      "cell_type": "code",
      "source": [
        "y_train=to_categorical(y_train)\n",
        "y_test=to_categorical(y_test)"
      ],
      "metadata": {
        "id": "TJ-mu2p_s1x8"
      },
      "execution_count": null,
      "outputs": []
    },
    {
      "cell_type": "code",
      "source": [
        "y_train.shape"
      ],
      "metadata": {
        "colab": {
          "base_uri": "https://localhost:8080/"
        },
        "id": "fB0fjpY0dk7h",
        "outputId": "5dffeeeb-f1e9-4f48-f980-ddf11bb80eda"
      },
      "execution_count": null,
      "outputs": [
        {
          "output_type": "execute_result",
          "data": {
            "text/plain": [
              "(60000, 10)"
            ]
          },
          "metadata": {},
          "execution_count": 13
        }
      ]
    },
    {
      "cell_type": "code",
      "source": [
        "num_classes=y_test.shape[1]"
      ],
      "metadata": {
        "id": "R6fxWsUatJHz"
      },
      "execution_count": null,
      "outputs": []
    },
    {
      "cell_type": "code",
      "source": [
        "model=Sequential()\n",
        "model.add(Conv2D(32,(3,3),input_shape=(28,28,1),activation='relu'))\n",
        "model.add(MaxPooling2D(pool_size=(2,2)))\n",
        "model.add(Dropout(0.3))\n",
        "model.add(Flatten())\n",
        "model.add(Dense(240,activation='elu'))\n",
        "model.add(Dense(num_classes,activation='softmax'))\n",
        "print(model.output_shape)\n"
      ],
      "metadata": {
        "colab": {
          "base_uri": "https://localhost:8080/"
        },
        "id": "OwW22zYus6UV",
        "outputId": "f5158f86-a900-4b02-99b6-63c4026fb72d"
      },
      "execution_count": null,
      "outputs": [
        {
          "output_type": "stream",
          "name": "stdout",
          "text": [
            "(None, 10)\n"
          ]
        }
      ]
    },
    {
      "cell_type": "code",
      "source": [
        "model.compile(loss='categorical_crossentropy',optimizer='adam',metrics=['accuracy'])"
      ],
      "metadata": {
        "id": "UE0T0Skns8uH"
      },
      "execution_count": null,
      "outputs": []
    },
    {
      "cell_type": "code",
      "source": [
        "model.fit(X_train,y_train,validation_data=(X_test,y_test),epochs=5,batch_size=60)"
      ],
      "metadata": {
        "colab": {
          "base_uri": "https://localhost:8080/"
        },
        "id": "Dh-AuOPBtoo4",
        "outputId": "ddc0f59d-972e-4e04-93d1-ad63be50128c"
      },
      "execution_count": null,
      "outputs": [
        {
          "output_type": "stream",
          "name": "stdout",
          "text": [
            "Epoch 1/5\n",
            "1000/1000 [==============================] - 56s 55ms/step - loss: 0.1571 - accuracy: 0.9512 - val_loss: 0.0673 - val_accuracy: 0.9788\n",
            "Epoch 2/5\n",
            "1000/1000 [==============================] - 49s 49ms/step - loss: 0.0638 - accuracy: 0.9796 - val_loss: 0.0499 - val_accuracy: 0.9823\n",
            "Epoch 3/5\n",
            "1000/1000 [==============================] - 53s 53ms/step - loss: 0.0432 - accuracy: 0.9860 - val_loss: 0.0437 - val_accuracy: 0.9858\n",
            "Epoch 4/5\n",
            "1000/1000 [==============================] - 48s 48ms/step - loss: 0.0307 - accuracy: 0.9901 - val_loss: 0.0441 - val_accuracy: 0.9862\n",
            "Epoch 5/5\n",
            "1000/1000 [==============================] - 49s 49ms/step - loss: 0.0250 - accuracy: 0.9919 - val_loss: 0.0363 - val_accuracy: 0.9877\n"
          ]
        },
        {
          "output_type": "execute_result",
          "data": {
            "text/plain": [
              "<keras.src.callbacks.History at 0x7891ae4abdf0>"
            ]
          },
          "metadata": {},
          "execution_count": 21
        }
      ]
    },
    {
      "cell_type": "code",
      "source": [
        "scores=model.evaluate(X_test,y_test,verbose=0)\n",
        "scores"
      ],
      "metadata": {
        "id": "NmNHbFTauwys"
      },
      "execution_count": null,
      "outputs": []
    },
    {
      "cell_type": "code",
      "source": [
        "print(\"CNN error:{:.2f}\".format(100-scores[1]*100))"
      ],
      "metadata": {
        "colab": {
          "base_uri": "https://localhost:8080/"
        },
        "id": "zCiPixyuvMKS",
        "outputId": "b13799dc-be12-484e-b0a8-c4884311cbaa"
      },
      "execution_count": null,
      "outputs": [
        {
          "output_type": "stream",
          "name": "stdout",
          "text": [
            "CNN error:1.23\n"
          ]
        }
      ]
    },
    {
      "cell_type": "code",
      "source": [
        "model.fit(X_train,y_train,validation_data=(X_test,y_test),epochs=5,batch_size=1000)"
      ],
      "metadata": {
        "colab": {
          "base_uri": "https://localhost:8080/"
        },
        "id": "EyPfX4gWuvN3",
        "outputId": "c92fbfd1-df03-41f5-b98c-bea7253a0d28"
      },
      "execution_count": null,
      "outputs": [
        {
          "output_type": "stream",
          "name": "stdout",
          "text": [
            "Epoch 1/5\n",
            "60/60 [==============================] - 45s 717ms/step - loss: 0.4173 - accuracy: 0.8699 - val_loss: 0.1688 - val_accuracy: 0.9510\n",
            "Epoch 2/5\n",
            "60/60 [==============================] - 39s 653ms/step - loss: 0.1432 - accuracy: 0.9581 - val_loss: 0.0973 - val_accuracy: 0.9700\n",
            "Epoch 3/5\n",
            "60/60 [==============================] - 42s 700ms/step - loss: 0.0938 - accuracy: 0.9726 - val_loss: 0.0679 - val_accuracy: 0.9786\n",
            "Epoch 4/5\n",
            "60/60 [==============================] - 41s 678ms/step - loss: 0.0745 - accuracy: 0.9775 - val_loss: 0.0589 - val_accuracy: 0.9804\n",
            "Epoch 5/5\n",
            "60/60 [==============================] - 38s 630ms/step - loss: 0.0635 - accuracy: 0.9809 - val_loss: 0.0595 - val_accuracy: 0.9812\n"
          ]
        },
        {
          "output_type": "execute_result",
          "data": {
            "text/plain": [
              "<keras.src.callbacks.History at 0x7eaa1ca74c70>"
            ]
          },
          "metadata": {},
          "execution_count": 17
        }
      ]
    },
    {
      "cell_type": "code",
      "source": [
        "scoresbs=model.evaluate(X_test,y_test,verbose=1)\n",
        "scoresbs"
      ],
      "metadata": {
        "colab": {
          "base_uri": "https://localhost:8080/"
        },
        "id": "0E4nGFEVwNZy",
        "outputId": "5260fc26-e7e9-416b-a70d-8d9f5ff46c48"
      },
      "execution_count": null,
      "outputs": [
        {
          "output_type": "stream",
          "name": "stdout",
          "text": [
            "313/313 [==============================] - 4s 12ms/step - loss: 0.0595 - accuracy: 0.9812\n"
          ]
        },
        {
          "output_type": "execute_result",
          "data": {
            "text/plain": [
              "[0.0594957135617733, 0.9811999797821045]"
            ]
          },
          "metadata": {},
          "execution_count": 19
        }
      ]
    },
    {
      "cell_type": "code",
      "source": [
        "print(\"CNN error:{:.2f}\".format(100-scoresbs[1]*100))"
      ],
      "metadata": {
        "colab": {
          "base_uri": "https://localhost:8080/"
        },
        "id": "-00sjxSQwRnO",
        "outputId": "1e3839bd-eb11-4585-f76f-22ee1c33d0e4"
      },
      "execution_count": null,
      "outputs": [
        {
          "output_type": "stream",
          "name": "stdout",
          "text": [
            "CNN error:1.11\n"
          ]
        }
      ]
    },
    {
      "cell_type": "code",
      "source": [
        "pred(248)"
      ],
      "metadata": {
        "colab": {
          "base_uri": "https://localhost:8080/",
          "height": 469
        },
        "id": "lYt4OOogBIpF",
        "outputId": "01b16e7d-3a97-41f1-8ef2-40edf679bd57"
      },
      "execution_count": null,
      "outputs": [
        {
          "output_type": "stream",
          "name": "stdout",
          "text": [
            "1/1 [==============================] - 0s 132ms/step\n"
          ]
        },
        {
          "output_type": "display_data",
          "data": {
            "text/plain": [
              "<Figure size 640x480 with 1 Axes>"
            ],
            "image/png": "[encoded data removed]"
          },
          "metadata": {}
        }
      ]
    }
  ]
}